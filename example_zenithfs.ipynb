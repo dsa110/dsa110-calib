{
 "cells": [
  {
   "cell_type": "code",
   "execution_count": 1,
   "metadata": {},
   "outputs": [],
   "source": [
    "import __casac__ as cc\n",
    "import numpy as np\n",
    "import matplotlib.pyplot as plt\n",
    "import astropy.units as u\n",
    "from astropy.io import fits as pf\n",
    "from dsacalib.utils import *\n",
    "from dsacalib.calib import * \n",
    "from dsacalib.plotting import *\n",
    "from dsacalib.fringestopping import *\n",
    "from astropy.time import Time\n",
    "%matplotlib inline"
   ]
  },
  {
   "cell_type": "code",
   "execution_count": 2,
   "metadata": {},
   "outputs": [],
   "source": [
    "# Define the file, source and pointing parameters\n",
    "datadir= '/home/simard/dsa_calib/data'\n",
    "fl     = '{0}/J1459+7140/flagged.fits'.format(datadir) \n",
    "cal    = src('J1459+7140','14h59m07.63s','+71d40m19.9s',7.47)\n",
    "sr0    = src('J1520+7225','15h20m47.46s','+72d25m04.80s',1.5491)\n",
    "antenna_order = [8,5,7,4,3,0,9,1,6,2]\n",
    "nant   = len(antenna_order)"
   ]
  },
  {
   "cell_type": "markdown",
   "metadata": {},
   "source": [
    "## Fringestop on Zenith and Integrate"
   ]
  },
  {
   "cell_type": "code",
   "execution_count": 3,
   "metadata": {},
   "outputs": [
    {
     "name": "stdout",
     "output_type": "stream",
     "text": [
      "File covers 1.01 h hours from MJD 58753.925137845064 to 58753.96714612979\n"
     ]
    }
   ],
   "source": [
    "fobs, blen, bname, tstart, tstop, vis, mjd, transit_idx = \\\n",
    "    read_psrfits_file(fl,cal,dur=50*u.min,\n",
    "                      antpos='{0}/antpos_ITRF.txt'\n",
    "                      .format(datadir))"
   ]
  },
  {
   "cell_type": "code",
   "execution_count": 4,
   "metadata": {},
   "outputs": [
    {
     "name": "stdout",
     "output_type": "stream",
     "text": [
      "(45, 25)\n",
      "(45, 25)\n"
     ]
    }
   ],
   "source": [
    "generate_fringestopping_table(blen,nint=25)"
   ]
  },
  {
   "cell_type": "code",
   "execution_count": 4,
   "metadata": {},
   "outputs": [
    {
     "ename": "AssertionError",
     "evalue": "",
     "output_type": "error",
     "traceback": [
      "\u001b[0;31m---------------------------------------------------------------------------\u001b[0m",
      "\u001b[0;31mAssertionError\u001b[0m                            Traceback (most recent call last)",
      "\u001b[0;32m<ipython-input-4-788015e1bcbc>\u001b[0m in \u001b[0;36m<module>\u001b[0;34m\u001b[0m\n\u001b[1;32m      1\u001b[0m vis = fringestop_on_zenith(vis,fobs,nint=25,\n\u001b[0;32m----> 2\u001b[0;31m         fstable='/home/simard/dsa_calib/fringestopping_table.npz')\n\u001b[0m",
      "\u001b[0;32m~/anaconda3/envs/casa/share/dsa110-calib/dsacalib/fringestopping.py\u001b[0m in \u001b[0;36mfringestop_on_zenith\u001b[0;34m(vis, fobs, fstable, return_model, nint)\u001b[0m\n\u001b[1;32m    289\u001b[0m     \u001b[0;32massert\u001b[0m \u001b[0mbws\u001b[0m\u001b[0;34m.\u001b[0m\u001b[0mshape\u001b[0m\u001b[0;34m[\u001b[0m\u001b[0;36m0\u001b[0m\u001b[0;34m]\u001b[0m \u001b[0;34m==\u001b[0m \u001b[0mvis\u001b[0m\u001b[0;34m.\u001b[0m\u001b[0mshape\u001b[0m\u001b[0;34m[\u001b[0m\u001b[0;36m0\u001b[0m\u001b[0;34m]\u001b[0m\u001b[0;34m,\u001b[0m\u001b[0;31m \u001b[0m\u001b[0;31m\\\u001b[0m\u001b[0;34m\u001b[0m\u001b[0;34m\u001b[0m\u001b[0m\n\u001b[1;32m    290\u001b[0m         \u001b[0;34m'w vector and visibility have different numbers of baselines'\u001b[0m\u001b[0;34m\u001b[0m\u001b[0;34m\u001b[0m\u001b[0m\n\u001b[0;32m--> 291\u001b[0;31m     \u001b[0;32massert\u001b[0m \u001b[0mnint\u001b[0m \u001b[0;34m==\u001b[0m \u001b[0mbws\u001b[0m\u001b[0;34m.\u001b[0m\u001b[0mshape\u001b[0m\u001b[0;34m[\u001b[0m\u001b[0;36m1\u001b[0m\u001b[0;34m]\u001b[0m\u001b[0;34m\u001b[0m\u001b[0;34m\u001b[0m\u001b[0m\n\u001b[0m\u001b[1;32m    292\u001b[0m \u001b[0;34m\u001b[0m\u001b[0m\n\u001b[1;32m    293\u001b[0m     \u001b[0;31m# Reshape visibilities\u001b[0m\u001b[0;34m\u001b[0m\u001b[0;34m\u001b[0m\u001b[0;34m\u001b[0m\u001b[0m\n",
      "\u001b[0;31mAssertionError\u001b[0m: "
     ]
    }
   ],
   "source": [
    "vis = fringestop_on_zenith(vis,fobs,nint=25,\n",
    "        fstable='/home/simard/dsa_calib/fringestopping_table.npz')"
   ]
  },
  {
   "cell_type": "code",
   "execution_count": null,
   "metadata": {},
   "outputs": [],
   "source": [
    "zenith_ra=Time(np.mean([tstart,tstop]),format='mjd').sidereal_time('apparent',\n",
    "                                    longitude=ct.ovro_lon*u.rad).to_string()"
   ]
  },
  {
   "cell_type": "code",
   "execution_count": null,
   "metadata": {},
   "outputs": [],
   "source": [
    "zenith = src('zenith',zenith_ra,ct.pt_dec,1.)"
   ]
  },
  {
   "cell_type": "code",
   "execution_count": null,
   "metadata": {},
   "outputs": [],
   "source": [
    "msname = Time(tstart,format='mjd').isot\n",
    "convert_to_ms(zenith,vis,tstart,'{0}.ms'.format(msname),bname,\n",
    "              tsamp=ct.tsamp*25,nint=1,\n",
    "              antpos='{0}/antpos_ITRF.txt'.format(datadir))"
   ]
  },
  {
   "cell_type": "code",
   "execution_count": null,
   "metadata": {},
   "outputs": [],
   "source": [
    "nt   = vis.shape[1]\n",
    "tobs = tstart + np.arange(0.5,nt+0.5)*ct.tsamp*25/ct.seconds_per_day\n",
    "divide_visibility_sky_model(vis,blen,[cal],tobs,fobs)"
   ]
  },
  {
   "cell_type": "code",
   "execution_count": null,
   "metadata": {},
   "outputs": [],
   "source": [
    "convert_to_ms(cal,vis,tstart,'{0}.ms'.format(cal.name),bname,\n",
    "              tsamp=ct.tsamp*25,nint=1,\n",
    "              antpos='{0}/antpos_ITRF.txt'.format(datadir))"
   ]
  },
  {
   "cell_type": "markdown",
   "metadata": {},
   "source": [
    "## Delay calibration"
   ]
  },
  {
   "cell_type": "code",
   "execution_count": null,
   "metadata": {},
   "outputs": [],
   "source": [
    "delay_calibration(cal.name,cal.name)"
   ]
  },
  {
   "cell_type": "markdown",
   "metadata": {},
   "source": [
    "#### Use deviations from average delay calibration to flag bad times"
   ]
  },
  {
   "cell_type": "code",
   "execution_count": null,
   "metadata": {},
   "outputs": [],
   "source": [
    "bad_times,times = get_bad_times(cal.name,cal.name,nant)\n",
    "flag_badtimes(cal.name,times,bad_times,nant)"
   ]
  },
  {
   "cell_type": "code",
   "execution_count": null,
   "metadata": {},
   "outputs": [],
   "source": [
    "times, antenna_delays, kcorr = plot_antenna_delays(cal.name,cal.name,antenna_order)"
   ]
  },
  {
   "cell_type": "markdown",
   "metadata": {},
   "source": [
    "#### Flag antennas that we know are bad and short baselines with crosstalk"
   ]
  },
  {
   "cell_type": "code",
   "execution_count": null,
   "metadata": {},
   "outputs": [],
   "source": [
    "flag_antenna(cal.name,4)\n",
    "flag_antenna(cal.name,2)\n",
    "flag_antenna(cal.name,\"3,5,7,9&\")"
   ]
  },
  {
   "cell_type": "markdown",
   "metadata": {},
   "source": [
    "#### Gain calibration"
   ]
  },
  {
   "cell_type": "code",
   "execution_count": null,
   "metadata": {},
   "outputs": [],
   "source": [
    "gain_calibration(cal.name,cal.name)"
   ]
  },
  {
   "cell_type": "markdown",
   "metadata": {},
   "source": [
    "#### Look at solutions"
   ]
  },
  {
   "cell_type": "code",
   "execution_count": null,
   "metadata": {},
   "outputs": [],
   "source": [
    "plot_gain_calibration(cal.name,cal.name,antenna_order)"
   ]
  },
  {
   "cell_type": "code",
   "execution_count": null,
   "metadata": {},
   "outputs": [],
   "source": [
    "plot_image(cal.name,'corrected',cal,verbose=True)"
   ]
  },
  {
   "cell_type": "markdown",
   "metadata": {},
   "source": [
    "## Apply solution to target source"
   ]
  },
  {
   "cell_type": "code",
   "execution_count": null,
   "metadata": {},
   "outputs": [],
   "source": [
    "vis,vist = extract_vis_from_ms(msname)"
   ]
  },
  {
   "cell_type": "code",
   "execution_count": null,
   "metadata": {},
   "outputs": [],
   "source": [
    "divide_visibility_sky_model(vis,blen,[sr0],tobs,fobs,phase_only=True)"
   ]
  },
  {
   "cell_type": "code",
   "execution_count": null,
   "metadata": {},
   "outputs": [],
   "source": [
    "convert_to_ms(sr0,vis,tstart,'{0}.ms'.format(sr0.name),bname,\n",
    "              tsamp=ct.tsamp*25,nint=1,\n",
    "              antpos='{0}/antpos_ITRF.txt'.format(datadir))"
   ]
  },
  {
   "cell_type": "markdown",
   "metadata": {},
   "source": [
    "#### Flag bad antennas and short baselines"
   ]
  },
  {
   "cell_type": "code",
   "execution_count": null,
   "metadata": {},
   "outputs": [],
   "source": [
    "flag_antenna(sr0.name,4)\n",
    "flag_antenna(sr0.name,2)\n",
    "flag_antenna(sr0.name,\"3,5,7,9&\")"
   ]
  },
  {
   "cell_type": "markdown",
   "metadata": {},
   "source": [
    "#### Calibrate"
   ]
  },
  {
   "cell_type": "code",
   "execution_count": null,
   "metadata": {},
   "outputs": [],
   "source": [
    "apply_calibration(sr0.name,cal.name,msnamecal=cal.name)"
   ]
  },
  {
   "cell_type": "markdown",
   "metadata": {},
   "source": [
    "#### Look at calibrated data"
   ]
  },
  {
   "cell_type": "code",
   "execution_count": null,
   "metadata": {},
   "outputs": [],
   "source": [
    "ms = cc.ms.ms()\n",
    "ms.open('{0}.ms'.format(sr0.name))\n",
    "data = ms.getdata(['corrected_data'])\n",
    "vis_cal = data['corrected_data'].reshape(2,625,-1,45).T\n",
    "ms.close()"
   ]
  },
  {
   "cell_type": "code",
   "execution_count": null,
   "metadata": {},
   "outputs": [],
   "source": [
    "plot_vis_freq(vis_cal,fobs,bname)"
   ]
  },
  {
   "cell_type": "code",
   "execution_count": null,
   "metadata": {},
   "outputs": [],
   "source": [
    "plot_vis_time(vis_cal,tobs,bname)"
   ]
  },
  {
   "cell_type": "code",
   "execution_count": null,
   "metadata": {},
   "outputs": [],
   "source": [
    "plot_image('{0}'.format(sr0.name),'corrected',sr0,verbose=True,\n",
    "          npix=128)"
   ]
  },
  {
   "cell_type": "code",
   "execution_count": null,
   "metadata": {},
   "outputs": [],
   "source": [
    "plot_image('{0}'.format(sr0.name),'corrected',sr0,verbose=True)"
   ]
  },
  {
   "cell_type": "code",
   "execution_count": null,
   "metadata": {},
   "outputs": [],
   "source": []
  }
 ],
 "metadata": {
  "kernelspec": {
   "display_name": "Python 3",
   "language": "python",
   "name": "python3"
  },
  "language_info": {
   "codemirror_mode": {
    "name": "ipython",
    "version": 3
   },
   "file_extension": ".py",
   "mimetype": "text/x-python",
   "name": "python",
   "nbconvert_exporter": "python",
   "pygments_lexer": "ipython3",
   "version": "3.6.7"
  }
 },
 "nbformat": 4,
 "nbformat_minor": 4
}
